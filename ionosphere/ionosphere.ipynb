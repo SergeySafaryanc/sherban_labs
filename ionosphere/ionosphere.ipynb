{
 "cells": [
  {
   "cell_type": "code",
   "execution_count": 4,
   "metadata": {},
   "outputs": [],
   "source": [
    "from main import *"
   ]
  },
  {
   "cell_type": "code",
   "execution_count": 5,
   "metadata": {},
   "outputs": [],
   "source": [
    "X = data.iloc[:, :-1].to_numpy()\n",
    "y = [to_int(i) for i in data.iloc[:, -1].values]"
   ]
  },
  {
   "cell_type": "code",
   "execution_count": 6,
   "metadata": {},
   "outputs": [],
   "source": [
    "X_train, X_test, y_train, y_test = train_test_split(X, y, test_size=0.25, random_state=14)"
   ]
  },
  {
   "cell_type": "code",
   "execution_count": 35,
   "metadata": {},
   "outputs": [],
   "source": [
    "res = {}\n",
    "for i in gen_comb(n_neighbors=range(1, 50)):\n",
    "    knn = KNeighborsClassifier(n_neighbors=i[0], n_jobs=-1)\n",
    "    knn.fit(X_train, y_train)\n",
    "    y_pred = knn.predict(X_test)\n",
    "#     print(f\"Конфигурация[n_neighbors={i[0]}] - {np.mean(y_pred == y_test)}\")\n",
    "    res.update({i[0]: np.mean(y_pred == y_test)})"
   ]
  },
  {
   "cell_type": "code",
   "execution_count": 38,
   "metadata": {},
   "outputs": [
    {
     "name": "stderr",
     "output_type": "stream",
     "text": [
      "/home/sergey/PycharmProjects/sherban_labs/venv/lib/python3.6/site-packages/seaborn/_decorators.py:43: FutureWarning: Pass the following variables as keyword args: x, y. From version 0.12, the only valid positional argument will be `data`, and passing other arguments without an explicit keyword will result in an error or misinterpretation.\n",
      "  FutureWarning\n"
     ]
    },
    {
     "data": {
      "text/plain": [
       "[Text(0.5, 0, 'n_neighbors'), Text(0, 0.5, 'accuracy')]"
      ]
     },
     "execution_count": 38,
     "metadata": {},
     "output_type": "execute_result"
    },
    {
     "data": {
      "image/png": "[encoded data removed]",
      "text/plain": [
       "<Figure size 432x288 with 1 Axes>"
      ]
     },
     "metadata": {
      "needs_background": "light"
     },
     "output_type": "display_data"
    }
   ],
   "source": [
    "ax = sns.stripplot(list(res.keys()), list([round(i, 2) for i in res.values()]))\n",
    "ax.set(xlabel ='n_neighbors', ylabel = 'accuracy')"
   ]
  },
  {
   "cell_type": "code",
   "execution_count": 47,
   "metadata": {},
   "outputs": [
    {
     "name": "stdout",
     "output_type": "stream",
     "text": [
      "86.6 %\n",
      "Разница между прогнозами на тестовой выборке и валидации: 0.9 %\n"
     ]
    }
   ],
   "source": [
    "from sklearn.model_selection import cross_val_score\n",
    "\n",
    "knn = KNeighborsClassifier(n_neighbors=2, n_jobs=-1)\n",
    "knn.fit(X_train, y_train)\n",
    "y_pred = knn.predict(X_test)\n",
    "\n",
    "scores = cross_val_score(knn, X_train, y_train, scoring = 'accuracy', cv=2)\n",
    "print(np.round(100*np.mean(scores), 1), \"%\")\n",
    "\n",
    "print(\"Разница между прогнозами на тестовой выборке и валидации:\", \n",
    "      np.round(100*np.mean(y_pred == y_test) - 100*np.mean(scores), 1), \"%\")"
   ]
  },
  {
   "cell_type": "code",
   "execution_count": 53,
   "metadata": {},
   "outputs": [
    {
     "name": "stdout",
     "output_type": "stream",
     "text": [
      "90.9\n"
     ]
    }
   ],
   "source": [
    "X_bad = list(map(lambda el: list(map(lambda y: y if (list(el).index(y) % 2 == 0) else y / 10, el)), X_train))\n",
    "X_bad_test = list(map(lambda el: list(map(lambda y: y if (list(el).index(y) % 2 == 0) else y / 10, el)), X_test))\n",
    "X_bad = np.array(X_bad)\n",
    "X_bad_test = np.array(X_bad_test)\n",
    "\n",
    "knn = KNeighborsClassifier(n_neighbors=2, n_jobs=-1)\n",
    "knn.fit(X_bad, y_train)\n",
    "y_pred = knn.predict(X_bad_test)\n",
    "print(np.round(100*np.mean(y_pred == y_test), 1))"
   ]
  },
  {
   "cell_type": "code",
   "execution_count": 54,
   "metadata": {},
   "outputs": [],
   "source": [
    "from sklearn.preprocessing import MinMaxScaler"
   ]
  },
  {
   "cell_type": "code",
   "execution_count": 61,
   "metadata": {},
   "outputs": [
    {
     "name": "stdout",
     "output_type": "stream",
     "text": [
      "[0.86259542 0.88549618]\n"
     ]
    }
   ],
   "source": [
    "scaler = MinMaxScaler()\n",
    "scaler.fit(X_train)\n",
    "train = scaler.transform(X_train)\n",
    "scaler.fit(X_test)\n",
    "test = scaler.transform(X_test)\n",
    "knn = KNeighborsClassifier(n_neighbors=2, n_jobs=-1)\n",
    "knn.fit(train, y_train)\n",
    "y_pred = knn.predict(test)\n",
    "scores = cross_val_score(knn, train, y_train, scoring = 'accuracy', cv=2)\n",
    "\n",
    "# print(np.round(100*np.mean(y_pred == y_test), 1))\n",
    "print(scores)"
   ]
  },
  {
   "cell_type": "code",
   "execution_count": null,
   "metadata": {},
   "outputs": [],
   "source": []
  },
  {
   "cell_type": "code",
   "execution_count": null,
   "metadata": {},
   "outputs": [],
   "source": []
  }
 ],
 "metadata": {
  "kernelspec": {
   "display_name": "Python 3",
   "language": "python",
   "name": "python3"
  },
  "language_info": {
   "codemirror_mode": {
    "name": "ipython",
    "version": 3
   },
   "file_extension": ".py",
   "mimetype": "text/x-python",
   "name": "python",
   "nbconvert_exporter": "python",
   "pygments_lexer": "ipython3",
   "version": "3.6.12"
  }
 },
 "nbformat": 4,
 "nbformat_minor": 4
}
